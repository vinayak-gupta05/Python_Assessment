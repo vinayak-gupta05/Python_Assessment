{
  "nbformat": 4,
  "nbformat_minor": 0,
  "metadata": {
    "colab": {
      "provenance": []
    },
    "kernelspec": {
      "name": "python3",
      "display_name": "Python 3"
    },
    "language_info": {
      "name": "python"
    }
  },
  "cells": [
    {
      "cell_type": "code",
      "execution_count": null,
      "metadata": {
        "id": "g9OUe3dN7Y31"
      },
      "outputs": [],
      "source": [
        "# 1.6) Write a program to display the appropriate message as per the color of signal (RED-Stop/Yellow-Stay/ Green-Go) at the road crossing.\n",
        "\n",
        "def traffic_signal(color):\n",
        "    color = color.lower()\n",
        "    if color == 'red':\n",
        "        return 'Stop'\n",
        "    elif color == 'yellow':\n",
        "        return 'Stay'\n",
        "    elif color == 'green':\n",
        "        return 'Go'\n",
        "    else:\n",
        "        return 'Invalid color'"
      ]
    },
    {
      "cell_type": "code",
      "source": [
        "traffic_signal('Red')"
      ],
      "metadata": {
        "colab": {
          "base_uri": "https://localhost:8080/",
          "height": 36
        },
        "id": "qjYG25QD8Hra",
        "outputId": "a67d68bd-21f2-466d-8112-911bcebb75c6"
      },
      "execution_count": null,
      "outputs": [
        {
          "output_type": "execute_result",
          "data": {
            "text/plain": [
              "'Stop'"
            ],
            "application/vnd.google.colaboratory.intrinsic+json": {
              "type": "string"
            }
          },
          "metadata": {},
          "execution_count": 2
        }
      ]
    },
    {
      "cell_type": "code",
      "source": [
        "# 1.7) Write a program to create a simple calculator performing only four basic operations(+,-./.\").\n",
        "\n",
        "def simple_calculator(num1, num2, opt):\n",
        "      if opt == '+':\n",
        "         return num1 + num2\n",
        "      elif opt == '-':\n",
        "         return num1 - num2\n",
        "      elif opt == '*':\n",
        "         return num1 * num2\n",
        "      elif opt == '/':\n",
        "         return num1 / num2\n",
        "      else:\n",
        "         return \"Invalid Operator\""
      ],
      "metadata": {
        "id": "WkglnVG48PNT"
      },
      "execution_count": null,
      "outputs": []
    },
    {
      "cell_type": "code",
      "source": [
        "simple_calculator(10, 20, '-')"
      ],
      "metadata": {
        "colab": {
          "base_uri": "https://localhost:8080/"
        },
        "id": "WEEikwOR_N1Q",
        "outputId": "84820c1f-8c37-4a14-b0e3-22c4210f9490"
      },
      "execution_count": null,
      "outputs": [
        {
          "output_type": "execute_result",
          "data": {
            "text/plain": [
              "-10"
            ]
          },
          "metadata": {},
          "execution_count": 6
        }
      ]
    },
    {
      "cell_type": "code",
      "source": [
        "# 1.8) Write a program to find the larger of the three pre-specified numbers using ternary operators.\n",
        "\n",
        "a = 10\n",
        "b = 24\n",
        "c = 13\n",
        "\n",
        "largest_no = a if (a > b and a > c) else b if (b > a and b > c) else c\n",
        "print(largest_no)"
      ],
      "metadata": {
        "colab": {
          "base_uri": "https://localhost:8080/"
        },
        "id": "xdwnqMWJ_iLI",
        "outputId": "452e18e8-6663-41aa-9c1a-8bfd60fcb4bb"
      },
      "execution_count": null,
      "outputs": [
        {
          "output_type": "stream",
          "name": "stdout",
          "text": [
            "24\n"
          ]
        }
      ]
    },
    {
      "cell_type": "code",
      "source": [
        "# 1.9) Write a program to find the factors of a whole number using a while loop.\n",
        "\n",
        "num = int(input(\"Enter a number: \"))\n",
        "\n",
        "i = 1\n",
        "print(f\"The factors of {num} are :\")\n",
        "\n",
        "while i <= num :\n",
        "  if num % i == 0:\n",
        "    print(i)\n",
        "  i += 1\n"
      ],
      "metadata": {
        "colab": {
          "base_uri": "https://localhost:8080/"
        },
        "id": "Hz9fmZdAA7BS",
        "outputId": "a38b01bd-dee6-4a94-e412-0d2326b6dee8"
      },
      "execution_count": null,
      "outputs": [
        {
          "output_type": "stream",
          "name": "stdout",
          "text": [
            "Enter a number: 22\n",
            "The factors of 22 are :\n",
            "1\n",
            "2\n",
            "11\n",
            "22\n"
          ]
        }
      ]
    },
    {
      "cell_type": "code",
      "source": [
        "# 1.10) Write a program to find the sum of all the positive numbers entered by the user.\n",
        "# As soon as the user enters a negative number, stop taking in any further input from the user and display the sum.\n",
        "\n",
        "\n",
        "total_sum = 0\n",
        "\n",
        "while True:\n",
        "\n",
        "  num = int(input(\"Enter a number : \"))\n",
        "\n",
        "  if num < 0:\n",
        "    break\n",
        "\n",
        "  else:\n",
        "    total_sum += num\n",
        "\n",
        "print(\"Sum of all numbers is \",total_sum)\n"
      ],
      "metadata": {
        "colab": {
          "base_uri": "https://localhost:8080/"
        },
        "id": "jUxXnSqLDn0N",
        "outputId": "42663093-ed1a-44da-b83c-4f310a35ed6f"
      },
      "execution_count": null,
      "outputs": [
        {
          "output_type": "stream",
          "name": "stdout",
          "text": [
            "Enter a number : 1\n",
            "Enter a number : 2\n",
            "Enter a number : 3\n",
            "Enter a number : 0\n",
            "Enter a number : -4\n",
            "Sum of all numbers is  6\n"
          ]
        }
      ]
    },
    {
      "cell_type": "code",
      "source": [
        "# 1.11) Writa a program to find prime numbers between 2 to 100 using nested for loops.\n",
        "\n",
        "for i in range(2, 101):\n",
        "  for j in range(2, i):\n",
        "    if i % j == 0:\n",
        "      break\n",
        "  else:\n",
        "    print(i)"
      ],
      "metadata": {
        "colab": {
          "base_uri": "https://localhost:8080/"
        },
        "id": "r32SCNwadqvi",
        "outputId": "c713a60e-165b-49f3-a731-5d3770c23acc"
      },
      "execution_count": 1,
      "outputs": [
        {
          "output_type": "stream",
          "name": "stdout",
          "text": [
            "2\n",
            "3\n",
            "5\n",
            "7\n",
            "11\n",
            "13\n",
            "17\n",
            "19\n",
            "23\n",
            "29\n",
            "31\n",
            "37\n",
            "41\n",
            "43\n",
            "47\n",
            "53\n",
            "59\n",
            "61\n",
            "67\n",
            "71\n",
            "73\n",
            "79\n",
            "83\n",
            "89\n",
            "97\n"
          ]
        }
      ]
    },
    {
      "cell_type": "code",
      "source": [
        "# 1.12) Write the programs for the following:\n",
        "\n",
        "# Q) Accept the marks of the student in five major subjects and display the same.\n",
        "\n",
        "subjects = [\"Physics\", \"Chemistry\", \"Mathematics\", \"English\", \"Optional\"]\n",
        "Marks = {}\n",
        "\n",
        "for subject in subjects:\n",
        "    Marks[subject] = int(input(f\"Enter the marks of {subject}: \"))\n",
        "\n",
        "print(\"Marks of the student :\",Marks)\n",
        "\n",
        "\n",
        "# Q) Calculate the sum of the marks of all subjects. Divide the total marks by number of subjects, calculate and display the percentage.\n",
        "\n",
        "total_marks = sum(Marks.values())\n",
        "Percentage = total_marks / len(Marks)\n",
        "\n",
        "print(f\"Total Marks : {total_marks}\")\n",
        "print(f\"Percentage : {Percentage}\",\"%\")\n",
        "\n",
        "\n",
        "# Q) Find the grade of the student as per the following criteria. Hint: Use Match & case for this.\n",
        "\n",
        "match Percentage:\n",
        "     case Percentage if Percentage > 85:\n",
        "         print(\"Grade of the student : A\")\n",
        "     case Percentage if Percentage < 85 and Percentage >= 75:\n",
        "         print(\"Grade of the student : B\")\n",
        "     case Percentage if Percentage < 75 and Percentage >= 50:\n",
        "         print(\"Grade of the student : C\")\n",
        "     case Percentage if Percentage > 30 and Percentage <= 50:\n",
        "         print(\"Grade of the student : D\")\n",
        "     case Percentage if Percentage < 30:\n",
        "         print(\"Reappear\")"
      ],
      "metadata": {
        "id": "8jhbK8HGtR05",
        "colab": {
          "base_uri": "https://localhost:8080/"
        },
        "outputId": "3d18bddb-e65d-4a50-c65b-23b579d7fe7c"
      },
      "execution_count": 10,
      "outputs": [
        {
          "output_type": "stream",
          "name": "stdout",
          "text": [
            "Enter the marks of Physics: 84\n",
            "Enter the marks of Chemistry: 83\n",
            "Enter the marks of Mathematics: 84\n",
            "Enter the marks of English: 83\n",
            "Enter the marks of Optional: 83\n",
            "Marks of the student : {'Physics': 84, 'Chemistry': 83, 'Mathematics': 84, 'English': 83, 'Optional': 83}\n",
            "Total Marks : 417\n",
            "Percentage : 83.4 %\n",
            "Grade of the student : B\n"
          ]
        }
      ]
    },
    {
      "cell_type": "code",
      "source": [
        "# 1.13) Write a program for VIBGYOR Spectrum based on their Wavelength using Wavelength Range:\n",
        "\n",
        "def vibgyor_spectrum(wavelength):\n",
        "   if wavelength >= 400.0 and wavelength < 440.0:\n",
        "      return \"Violet\"\n",
        "   if wavelength >= 440.0 and wavelength < 460.0:\n",
        "      return \"Indigo\"\n",
        "   if wavelength >= 460.0 and wavelength < 500.0:\n",
        "      return \"Blue\"\n",
        "   if wavelength >= 500.0 and wavelength < 570.0:\n",
        "      return \"Green\"\n",
        "   if wavelength >= 570.0 and wavelength < 590.0:\n",
        "      return \"Yellow\"\n",
        "   if wavelength >= 590.0 and wavelength < 620.0:\n",
        "      return \"Orange\"\n",
        "   if wavelength >= 620.0 and wavelength < 720.0:\n",
        "      return \"Red\""
      ],
      "metadata": {
        "id": "R_t_VD-9oi5C"
      },
      "execution_count": 11,
      "outputs": []
    },
    {
      "cell_type": "code",
      "source": [
        "vibgyor_spectrum(600)"
      ],
      "metadata": {
        "colab": {
          "base_uri": "https://localhost:8080/",
          "height": 36
        },
        "id": "BH6ji5Drqh_V",
        "outputId": "1f757463-d7b7-4a56-ade8-b403a7d71547"
      },
      "execution_count": 12,
      "outputs": [
        {
          "output_type": "execute_result",
          "data": {
            "text/plain": [
              "'Orange'"
            ],
            "application/vnd.google.colaboratory.intrinsic+json": {
              "type": "string"
            }
          },
          "metadata": {},
          "execution_count": 12
        }
      ]
    },
    {
      "cell_type": "code",
      "source": [
        "# 1.14) Consider the gravitational interactions between the Earth, Moon ans Sun in our solar system.\n",
        "\n",
        "mass_earth = 5.972e24\n",
        "mass_moon = 7.34767309e22\n",
        "mass_sun = 1.989e30\n",
        "\n",
        "distance_earth_sun = 1.496e11\n",
        "distance_moon_earth = 3.844e8\n",
        "\n",
        "#Task1\n",
        "gravity_earth_sun = (6.67e-11 * mass_earth * mass_sun) / (distance_earth_sun ** 2)\n",
        "\n",
        "#Task2\n",
        "gravity_moon_earth = (6.67e-11 * mass_moon * mass_earth) / (distance_moon_earth ** 2)\n",
        "\n",
        "print(f\"The gravitational force between Earth and Sun is {gravity_earth_sun} N\")\n",
        "print(f\"The gravitational force between Earth and Moon is {gravity_moon_earth} N\")\n",
        "\n",
        "#Task3\n",
        "if (gravity_earth_sun > gravity_moon_earth):\n",
        "  print(\"The Gravitational force between Earth and Sun is stronger!\")\n",
        "else:\n",
        "  print(\"The Gravitational force between Earth and Sun is stronger!\")\n",
        "\n",
        "#Task4\n",
        "print(\"The Earth is far more attracted to the Sun than the Moon is attracted to the Earth. This is due to the much larger mass of the Sun compared to the Earth, despite the greater distance between the Earth and the Sun.\")\n",
        "\n",
        "\n"
      ],
      "metadata": {
        "colab": {
          "base_uri": "https://localhost:8080/"
        },
        "id": "dAY980cvqlRr",
        "outputId": "fd5f8213-181b-45a7-c8c8-e128121a672d"
      },
      "execution_count": 17,
      "outputs": [
        {
          "output_type": "stream",
          "name": "stdout",
          "text": [
            "The gravitational force between Earth and Sun is 3.5401138490520174e+22 N\n",
            "The gravitational force between Earth and Moon is 1.9807456032098324e+20 N\n",
            "The Gravitational force between Earth and Sun is stronger!\n",
            "The Earth is far more attracted to the Sun than the Moon is attracted to the Earth. This is due to the much larger mass of the Sun compared to the Earth, despite the greater distance between the Earth and the Sun.\n"
          ]
        }
      ]
    },
    {
      "cell_type": "code",
      "source": [
        "''' 2) Design and implement a Python program for managing student information using object-oriented principles.\n",
        "Create a class called Student with encapsulated attributes for name, age, and roll number.\n",
        "Implement getter and setter methods for these attributes.\n",
        "Additionally, provide methods to display student information and update student details.'''\n",
        "\n",
        "class Student:\n",
        "    def __init__(self, name, age, roll_no):\n",
        "        self.__name = name\n",
        "        self.__age = age\n",
        "        self.__roll_no = roll_no\n",
        "\n",
        "    def get_name(self):\n",
        "        return self.__name\n",
        "\n",
        "    def set_name(self, name):\n",
        "        self.__name = name\n",
        "\n",
        "    def get_age(self):\n",
        "        return self.__age\n",
        "\n",
        "    def set_age(self, age):\n",
        "        self.__age = age\n",
        "\n",
        "    def get_roll_no(self):\n",
        "        return self.__roll_no\n",
        "\n",
        "    def set_roll_no(self, roll_no):\n",
        "        self.__roll_no = roll_no\n",
        "\n",
        "    def display_info(self):\n",
        "        print(f'Name :{self.__name}')\n",
        "        print(f'Age :{self.__age}')\n",
        "        print(f'Roll_No :{self.__roll_no}')\n",
        "\n",
        "    def update_details(self, name=None, age=None, roll_no=None):\n",
        "        if name:\n",
        "            self.set_name(name)\n",
        "        if age:\n",
        "            self.set_age(age)\n",
        "        if roll_no:\n",
        "            self.set_roll_no(roll_no)\n",
        "        print(\"Student details updated successfully!\")\n",
        "\n",
        ""
      ],
      "metadata": {
        "id": "_jzzcrKVvG7h"
      },
      "execution_count": 35,
      "outputs": []
    },
    {
      "cell_type": "code",
      "source": [
        "student1 = Student(\"John\", 20, 101)"
      ],
      "metadata": {
        "id": "JDOKlvi2eTc3"
      },
      "execution_count": 36,
      "outputs": []
    },
    {
      "cell_type": "code",
      "source": [
        "student1.get_age()"
      ],
      "metadata": {
        "colab": {
          "base_uri": "https://localhost:8080/"
        },
        "id": "F3CzEVzPecci",
        "outputId": "e254b29a-2f30-4c88-894e-118c737f71c8"
      },
      "execution_count": 37,
      "outputs": [
        {
          "output_type": "execute_result",
          "data": {
            "text/plain": [
              "20"
            ]
          },
          "metadata": {},
          "execution_count": 37
        }
      ]
    },
    {
      "cell_type": "code",
      "source": [
        "student1.get_roll_no()"
      ],
      "metadata": {
        "colab": {
          "base_uri": "https://localhost:8080/"
        },
        "id": "mxAX2LZDfLzk",
        "outputId": "4b6ad73d-a0a0-4910-9bdc-5bfb0c288d8a"
      },
      "execution_count": 38,
      "outputs": [
        {
          "output_type": "execute_result",
          "data": {
            "text/plain": [
              "101"
            ]
          },
          "metadata": {},
          "execution_count": 38
        }
      ]
    },
    {
      "cell_type": "code",
      "source": [
        "student1.display_info()"
      ],
      "metadata": {
        "colab": {
          "base_uri": "https://localhost:8080/"
        },
        "id": "mkBXx3W1fUCM",
        "outputId": "15a40705-3947-40c8-dace-5d259d2fb571"
      },
      "execution_count": 39,
      "outputs": [
        {
          "output_type": "stream",
          "name": "stdout",
          "text": [
            "Name :John\n",
            "Age :20\n",
            "Roll_No :101\n"
          ]
        }
      ]
    },
    {
      "cell_type": "code",
      "source": [
        "student1.update_details(age=23, roll_no=102)"
      ],
      "metadata": {
        "colab": {
          "base_uri": "https://localhost:8080/"
        },
        "id": "KtjC9KDxfY78",
        "outputId": "b331052c-f9ec-45ed-fc2e-66e3ff67831f"
      },
      "execution_count": 40,
      "outputs": [
        {
          "output_type": "stream",
          "name": "stdout",
          "text": [
            "Student details updated successfully!\n"
          ]
        }
      ]
    },
    {
      "cell_type": "code",
      "source": [
        "student1.display_info()"
      ],
      "metadata": {
        "colab": {
          "base_uri": "https://localhost:8080/"
        },
        "id": "iIHNdcZtfgrh",
        "outputId": "536270a4-fd7c-4e45-c3df-1e6895a132e4"
      },
      "execution_count": 41,
      "outputs": [
        {
          "output_type": "stream",
          "name": "stdout",
          "text": [
            "Name :John\n",
            "Age :23\n",
            "Roll_No :102\n"
          ]
        }
      ]
    },
    {
      "cell_type": "code",
      "source": [
        "''' 3) Develop a Python program for managing library resources efficiently. Design a class named LibraryBook with attributes like book name, author, and availability status.\n",
        "       Implement methods for borrowing and returning books while ensuring proper encapsulation of attributes.'''\n",
        "\n",
        "class LibraryBook:\n",
        "      def __init__(self, book_name, author) :\n",
        "          self.__book_name = book_name\n",
        "          self.__author = author\n",
        "          self.__is_available = True\n",
        "\n",
        "      def borrow_book(self):\n",
        "          if self.__is_available:\n",
        "             self.__is_available = False\n",
        "             print(f'You have successfully borrowed {self.__book_name} by {self.__author}.')\n",
        "          else:\n",
        "             print(f'Sorry, {self.__book_name} is currently unavailable.')\n",
        "\n",
        "      def return_book(self):\n",
        "          if not self.__is_available:\n",
        "             self.__is_available = True\n",
        "             print(f\"Thank you for returning '{self.__book_name}'.\")\n",
        "          else:\n",
        "             print(f\"'{self.__book_name}' was not borrowed.\")\n",
        "\n",
        "\n",
        "      def get_book_name(self):\n",
        "          return self.__book_name\n",
        "\n",
        "      def get_author(self):\n",
        "          return self.__author\n",
        "\n",
        "      def is_available(self):\n",
        "          return self.__is_available\n",
        "\n",
        "      def display_book_info(self):\n",
        "          status = \"Available\" if self.__is_available else \"Unavailable\"\n",
        "          print(f\"Book Name: {self.__book_name}\")\n",
        "          print(f\"Author: {self.__author}\")\n",
        "          print(f\"Status: {status}\")\n",
        ""
      ],
      "metadata": {
        "id": "4Y8xGGl0fjuG"
      },
      "execution_count": 42,
      "outputs": []
    },
    {
      "cell_type": "code",
      "source": [
        "book1 = LibraryBook(\"The Alchemist\", \"Paulo Coelho\")"
      ],
      "metadata": {
        "id": "v5wlUOTijAYT"
      },
      "execution_count": 43,
      "outputs": []
    },
    {
      "cell_type": "code",
      "source": [
        "book1.borrow_book()"
      ],
      "metadata": {
        "colab": {
          "base_uri": "https://localhost:8080/"
        },
        "id": "kqOSCuK6jDv8",
        "outputId": "77edd2fa-c62e-413c-b7ea-21b5ac9ef2e3"
      },
      "execution_count": 47,
      "outputs": [
        {
          "output_type": "stream",
          "name": "stdout",
          "text": [
            "You have successfully borrowed The Alchemist by Paulo Coelho.\n"
          ]
        }
      ]
    },
    {
      "cell_type": "code",
      "source": [
        "book1.return_book()"
      ],
      "metadata": {
        "colab": {
          "base_uri": "https://localhost:8080/"
        },
        "id": "SxwiozZOjLM-",
        "outputId": "9cc253d6-c075-4146-f359-2aab5eadaea4"
      },
      "execution_count": 45,
      "outputs": [
        {
          "output_type": "stream",
          "name": "stdout",
          "text": [
            "Thank you for returning 'The Alchemist'.\n"
          ]
        }
      ]
    },
    {
      "cell_type": "code",
      "source": [
        "book1.display_book_info()"
      ],
      "metadata": {
        "colab": {
          "base_uri": "https://localhost:8080/"
        },
        "id": "DkIsV2K_jRP7",
        "outputId": "307479c2-034c-48c0-c0b4-ba01aa1e5697"
      },
      "execution_count": 48,
      "outputs": [
        {
          "output_type": "stream",
          "name": "stdout",
          "text": [
            "Book Name: The Alchemist\n",
            "Author: Paulo Coelho\n",
            "Status: Unavailable\n"
          ]
        }
      ]
    },
    {
      "cell_type": "code",
      "source": [
        "''' 4) Create a simple banking system using object-oriented concepts in Python. Design classes representing\n",
        "different types of bank accounts such as savings and checking. Implement methods for deposit, withdraw,\n",
        "and balance inquiry. Utilize inheritance to manage different account types efficiently. '''\n",
        "\n",
        "class Bank:\n",
        "     def __init__(self, account_no, account_holder, balance):\n",
        "         self.__account_no = account_no\n",
        "         self.__account_holder = account_holder\n",
        "         self.__balance = balance\n",
        "\n",
        "     def deposit(self, amount):\n",
        "         self.__balance = self.__balance + amount\n",
        "\n",
        "     def withdraw(self, amount):\n",
        "         if amount > self.__balance:\n",
        "            print(\"Insufficient balance\")\n",
        "         else:\n",
        "            self.__balance = self.__balance - amount\n",
        "\n",
        "     def get_balance(self):\n",
        "         return self.__balance\n",
        "\n",
        "class SavingsAccount(Bank):\n",
        "     def __init__(self, account_number, account_holder, balance=0, interest_rate=0.01):\n",
        "        super().__init__(account_number, account_holder, balance)\n",
        "        self.__interest_rate = interest_rate\n",
        "\n",
        "     # Method to add interest to the balance\n",
        "     def add_interest(self):\n",
        "        interest = self.get_balance() * self.__interest_rate\n",
        "        self.deposit(interest)\n",
        "        print(f\"Interest added at rate {self.__interest_rate}. New balance: {self.get_balance()}\")\n",
        "\n",
        "class CheckingAccount(Bank):\n",
        "    def __init__(self, __account_no, account_holder, balance=0, overdraft_limit=500):\n",
        "        super().__init__(account_no, account_holder, balance)\n",
        "        self.__overdraft_limit = overdraft_limit\n",
        "\n",
        "    # Override withdraw method to include overdraft limit\n",
        "    def withdraw(self, amount):\n",
        "        if amount > 0:\n",
        "            if self.get_balance() + self.__overdraft_limit >= amount:\n",
        "                super().withdraw(amount)\n",
        "            else:\n",
        "                print(f\"Insufficient balance and overdraft limit.\")\n",
        "        else:\n",
        "            print(\"Withdrawal amount must be positive.\")\n",
        ""
      ],
      "metadata": {
        "id": "JrT6QjaGjUah"
      },
      "execution_count": 65,
      "outputs": []
    },
    {
      "cell_type": "code",
      "source": [
        "person1 = Bank(111, \"John\", 10000)"
      ],
      "metadata": {
        "id": "LwmUK43umzUy"
      },
      "execution_count": 66,
      "outputs": []
    },
    {
      "cell_type": "code",
      "source": [
        "person1.deposit(1000)"
      ],
      "metadata": {
        "id": "cgBaluymm6ur"
      },
      "execution_count": 67,
      "outputs": []
    },
    {
      "cell_type": "code",
      "source": [
        "person1.withdraw(2000)"
      ],
      "metadata": {
        "id": "HNUeDyddnAZP"
      },
      "execution_count": 68,
      "outputs": []
    },
    {
      "cell_type": "code",
      "source": [
        "''' 5) Write a Python program that models different animals and their sounds. Design a base class called\n",
        "`Animal` with a method `make_sound()`. Create subclasses like `Dog` and `Cat` that override the\n",
        "`make_sound()` method to produce appropriate sounds.\n",
        "Task:\n",
        "1. Define the `Animal` class with a method `make_sound()`.\n",
        "2. Create subclasses `Dog` and `Cat` that override the `make_sound()` method.\n",
        "3. Implement the sound generation logic for each subclass.\n",
        "4. Test the program by creating instances of `Dog` and `Cat` and calling the `make_sound()` method. '''\n",
        "\n",
        "class Animal:\n",
        "    def make_sound(self):\n",
        "        pass\n",
        "\n",
        "class Dog(Animal):\n",
        "    def make_sound(self):\n",
        "        print(\"Woof! Woof!\")\n",
        "\n",
        "class Cat(Animal):\n",
        "    def make_sound(self):\n",
        "        print(\"Meow! Meow!\")"
      ],
      "metadata": {
        "id": "Hrt_ZCNQnHq2"
      },
      "execution_count": 70,
      "outputs": []
    },
    {
      "cell_type": "code",
      "source": [
        "animal = Animal()"
      ],
      "metadata": {
        "id": "15fDAi9hs7OK"
      },
      "execution_count": 73,
      "outputs": []
    },
    {
      "cell_type": "code",
      "source": [
        "animal.make_sound()"
      ],
      "metadata": {
        "id": "FfFcMl75tSPb"
      },
      "execution_count": 74,
      "outputs": []
    },
    {
      "cell_type": "code",
      "source": [
        "Dog = Dog()"
      ],
      "metadata": {
        "id": "n_B3zZTetYyo"
      },
      "execution_count": 75,
      "outputs": []
    },
    {
      "cell_type": "code",
      "source": [
        "Dog.make_sound()"
      ],
      "metadata": {
        "colab": {
          "base_uri": "https://localhost:8080/"
        },
        "id": "r2Aps9O3tcSL",
        "outputId": "3d3586cb-9c0c-46a6-c401-68dc18182cfa"
      },
      "execution_count": 76,
      "outputs": [
        {
          "output_type": "stream",
          "name": "stdout",
          "text": [
            "Woof! Woof!\n"
          ]
        }
      ]
    },
    {
      "cell_type": "code",
      "source": [
        "Cat = Cat()"
      ],
      "metadata": {
        "id": "XUT_Oe4dteT1"
      },
      "execution_count": 77,
      "outputs": []
    },
    {
      "cell_type": "code",
      "source": [
        "Cat.make_sound()"
      ],
      "metadata": {
        "colab": {
          "base_uri": "https://localhost:8080/"
        },
        "id": "MO2P-hjWtiVn",
        "outputId": "95a6da0b-d867-4cad-bbc5-3a0002096f9a"
      },
      "execution_count": 78,
      "outputs": [
        {
          "output_type": "stream",
          "name": "stdout",
          "text": [
            "Meow! Meow!\n"
          ]
        }
      ]
    },
    {
      "cell_type": "code",
      "source": [
        "''' 6) Write a code for Restaurant Management System Using OOPS:\n",
        "\n",
        "Create a Menultem class that has attributes such as name, description, price, and category.\n",
        "Implement methods to add a new menu item, update menu item information, and remove a menu item from the menu.\n",
        "Use encapsulation to hide the menu item's unique identification number.\n",
        "Inherit from the Menultem class to create a Fooditem class and a Beverageltem class, each with their own specific attributes and methods.'''\n",
        "\n",
        "class MenuItem:\n",
        "    __item_counter = 0\n",
        "\n",
        "    def __init__(self, name, description, price, category):\n",
        "        self.__id = MenuItem.__item_counter\n",
        "        self.name = name\n",
        "        self.description = description\n",
        "        self.price = price\n",
        "        self.category = category\n",
        "        MenuItem.__item_counter += 1\n",
        "\n",
        "    def get_id(self):\n",
        "        return self.__id\n",
        "\n",
        "    def update_item(self, name=None, description=None, price=None, category=None):\n",
        "        if name is not None:\n",
        "            self.name = name\n",
        "        if description is not None:\n",
        "            self.description = description\n",
        "        if price is not None:\n",
        "            self.price = price\n",
        "        if category is not None:\n",
        "            self.category = category\n",
        "\n",
        "    def display_item(self):\n",
        "        return f\"ID: {self.__id}, Name: {self.name}, Description: {self.description}, Price: ${self.price}, Category: {self.category}\"\n",
        "\n",
        "\n",
        "class FoodItem(MenuItem):\n",
        "    def __init__(self, name, description, price, category, is_vegan=False):\n",
        "        super().__init__(name, description, price, category)\n",
        "        self.is_vegan = is_vegan\n",
        "\n",
        "    def display_item(self):\n",
        "        vegan_status = \"Vegan\" if self.is_vegan else \"Non-Vegan\"\n",
        "        return super().display_item() + f\", Vegan: {vegan_status}\"\n",
        "\n",
        "\n",
        "class BeverageItem(MenuItem):\n",
        "    def __init__(self, name, description, price, category, is_alcoholic=False):\n",
        "        super().__init__(name, description, price, category)\n",
        "        self.is_alcoholic = is_alcoholic\n",
        "\n",
        "    def display_item(self):\n",
        "        alcohol_status = \"Alcoholic\" if self.is_alcoholic else \"Non-Alcoholic\"\n",
        "        return super().display_item() + f\", Alcoholic: {alcohol_status}\"\n",
        "\n",
        "\n",
        "class Menu:\n",
        "    def __init__(self):\n",
        "        self.items = {}\n",
        "\n",
        "    def add_item(self, item):\n",
        "        self.items[item.get_id()] = item\n",
        "\n",
        "    def remove_item(self, item_id):\n",
        "        if item_id in self.items:\n",
        "            del self.items[item_id]\n",
        "        else:\n",
        "            print(f\"Item ID {item_id} not found.\")\n",
        "\n",
        "    def update_item(self, item_id, name=None, description=None, price=None, category=None):\n",
        "        if item_id in self.items:\n",
        "            self.items[item_id].update_item(name, description, price, category)\n",
        "        else:\n",
        "            print(f\"Item ID {item_id} not found.\")\n",
        "\n",
        "    def display_menu(self):\n",
        "        for item in self.items.values():\n",
        "            print(item.display_item())"
      ],
      "metadata": {
        "id": "ZXOVr0zFtj_b"
      },
      "execution_count": 79,
      "outputs": []
    },
    {
      "cell_type": "code",
      "source": [
        "''' 7) Write a code for Hotel Management System using OOPS:\n",
        "\n",
        "Create a Room class that has attributes such as room number, room type, rate, and availability (private).\n",
        "Implement methods to book a room, check in a guest, and check out a guest.\n",
        "Use encapsulation to hide the room's unique identification number.\n",
        "Inherit from the Room class to create a SuiteRoom class and a Standard Room class, each with their own specific attributes and methods.'''\n",
        "\n",
        "class Room:\n",
        "    __room_counter = 0\n",
        "\n",
        "    def __init__(self, room_number, room_type, rate, availability=True):\n",
        "        self.__room_id = Room.__room_counter\n",
        "        self.room_number = room_number\n",
        "        self.room_type = room_type\n",
        "        self.rate = rate\n",
        "        self.__availability = availability\n",
        "        Room.__room_counter += 1\n",
        "\n",
        "    def get_room_id(self):\n",
        "        return self.__room_id\n",
        "\n",
        "    def is_available(self):\n",
        "        return self.__availability\n",
        "\n",
        "    def book_room(self):\n",
        "        if self.__availability:\n",
        "            self.__availability = False\n",
        "            print(f\"Room {self.room_number} has been booked.\")\n",
        "        else:\n",
        "            print(f\"Room {self.room_number} is already booked.\")\n",
        "\n",
        "    def check_in(self):\n",
        "        if not self.__availability:\n",
        "            print(f\"Guest checked into room {self.room_number}.\")\n",
        "        else:\n",
        "            print(f\"Room {self.room_number} is not booked yet. Cannot check-in.\")\n",
        "\n",
        "    def check_out(self):\n",
        "        if not self.__availability:\n",
        "            self.__availability = True\n",
        "            print(f\"Guest checked out from room {self.room_number}. Room is now available.\")\n",
        "        else:\n",
        "            print(f\"Room {self.room_number} is already available.\")\n",
        "\n",
        "    def display_room_info(self):\n",
        "        availability_status = \"Available\" if self.__availability else \"Not Available\"\n",
        "        return f\"Room ID: {self.__room_id}, Room Number: {self.room_number}, Type: {self.room_type}, Rate: ${self.rate}/night, Availability: {availability_status}\"\n",
        "\n",
        "\n",
        "class SuiteRoom(Room):\n",
        "    def __init__(self, room_number, rate, has_living_area=True):\n",
        "        super().__init__(room_number, \"Suite\", rate)\n",
        "        self.has_living_area = has_living_area\n",
        "\n",
        "    def display_room_info(self):\n",
        "        living_area_status = \"Yes\" if self.has_living_area else \"No\"\n",
        "        return super().display_room_info() + f\", Living Area: {living_area_status}\"\n",
        "\n",
        "\n",
        "class StandardRoom(Room):\n",
        "    def __init__(self, room_number, rate, has_tv=True):\n",
        "        super().__init__(room_number, \"Standard\", rate)\n",
        "        self.has_tv = has_tv\n",
        "\n",
        "    def display_room_info(self):\n",
        "        tv_status = \"Yes\" if self.has_tv else \"No\"\n",
        "        return super().display_room_info() + f\", TV: {tv_status}\"\n",
        "\n",
        "\n",
        "class HotelManagementSystem:\n",
        "    def __init__(self):\n",
        "        self.rooms = {}\n",
        "\n",
        "    def add_room(self, room):\n",
        "        self.rooms[room.get_room_id()] = room\n",
        "\n",
        "    def display_all_rooms(self):\n",
        "        for room in self.rooms.values():\n",
        "            print(room.display_room_info())\n",
        "\n",
        "    def find_room_by_number(self, room_number):\n",
        "        for room in self.rooms.values():\n",
        "            if room.room_number == room_number:\n",
        "                return room\n",
        "        return None\n",
        "\n",
        "\n",
        "# Testing the system\n",
        "hotel = HotelManagementSystem()\n",
        "\n",
        "# Adding rooms to the hotel\n",
        "suite1 = SuiteRoom(room_number=101, rate=200)\n",
        "standard1 = StandardRoom(room_number=102, rate=100)\n",
        "suite2 = SuiteRoom(room_number=201, rate=250, has_living_area=False)\n",
        "standard2 = StandardRoom(room_number=202, rate=120)\n",
        "\n",
        "hotel.add_room(suite1)\n",
        "hotel.add_room(standard1)\n",
        "hotel.add_room(suite2)\n",
        "hotel.add_room(standard2)\n",
        "\n",
        "# Display all rooms\n",
        "print(\"All rooms:\")\n",
        "hotel.display_all_rooms()\n",
        "\n",
        "# Book a room and check-in\n",
        "room_to_book = hotel.find_room_by_number(101)\n",
        "if room_to_book:\n",
        "    room_to_book.book_room()\n",
        "    room_to_book.check_in()\n",
        "\n",
        "# Try to book the same room again\n",
        "room_to_book.book_room()\n",
        "\n",
        "# Check-out the room\n",
        "room_to_book.check_out()\n",
        "\n",
        "# Display updated room status\n",
        "print(\"\\nUpdated Room Information:\")\n",
        "hotel.display_all_rooms()\n",
        "\n"
      ],
      "metadata": {
        "colab": {
          "base_uri": "https://localhost:8080/"
        },
        "id": "lkrsAJ52wt-l",
        "outputId": "e3e8491d-42e4-4f53-b31e-767b6e22467a"
      },
      "execution_count": 80,
      "outputs": [
        {
          "output_type": "stream",
          "name": "stdout",
          "text": [
            "All rooms:\n",
            "Room ID: 0, Room Number: 101, Type: Suite, Rate: $200/night, Availability: Available, Living Area: Yes\n",
            "Room ID: 1, Room Number: 102, Type: Standard, Rate: $100/night, Availability: Available, TV: Yes\n",
            "Room ID: 2, Room Number: 201, Type: Suite, Rate: $250/night, Availability: Available, Living Area: No\n",
            "Room ID: 3, Room Number: 202, Type: Standard, Rate: $120/night, Availability: Available, TV: Yes\n",
            "Room 101 has been booked.\n",
            "Guest checked into room 101.\n",
            "Room 101 is already booked.\n",
            "Guest checked out from room 101. Room is now available.\n",
            "\n",
            "Updated Room Information:\n",
            "Room ID: 0, Room Number: 101, Type: Suite, Rate: $200/night, Availability: Available, Living Area: Yes\n",
            "Room ID: 1, Room Number: 102, Type: Standard, Rate: $100/night, Availability: Available, TV: Yes\n",
            "Room ID: 2, Room Number: 201, Type: Suite, Rate: $250/night, Availability: Available, Living Area: No\n",
            "Room ID: 3, Room Number: 202, Type: Standard, Rate: $120/night, Availability: Available, TV: Yes\n"
          ]
        }
      ]
    },
    {
      "cell_type": "code",
      "source": [
        "''' 8) Write a code for Fitness Club Management System using OOPS:\n",
        "\n",
        "Create a Member class that has attributes such as name, age, membership type, and membership status (private).\n",
        "Implement methods to register a new member, renew a membership, and cancel a membership.\n",
        "Use encapsulation to hide the member's unique identification number.\n",
        "Inherit from the Member class to create a FamilyMember class and an IndividualMember class, each with their own specific attributes and methods.'''\n",
        "\n",
        "\n",
        "class Member:\n",
        "    __member_counter = 0\n",
        "\n",
        "    def __init__(self, name, age, membership_type, membership_status=True):\n",
        "        self.__member_id = Member.__member_counter\n",
        "        self.name = name\n",
        "        self.age = age\n",
        "        self.membership_type = membership_type\n",
        "        self.__membership_status = membership_status\n",
        "        Member.__member_counter += 1\n",
        "\n",
        "    def get_member_id(self):\n",
        "        return self.__member_id\n",
        "\n",
        "    def is_active_member(self):\n",
        "        return self.__membership_status\n",
        "\n",
        "    def renew_membership(self):\n",
        "        if not self.__membership_status:\n",
        "            self.__membership_status = True\n",
        "            print(f\"Membership for {self.name} has been renewed.\")\n",
        "        else:\n",
        "            print(f\"{self.name} already has an active membership.\")\n",
        "\n",
        "    def cancel_membership(self):\n",
        "        if self.__membership_status:\n",
        "            self.__membership_status = False\n",
        "            print(f\"Membership for {self.name} has been canceled.\")\n",
        "        else:\n",
        "            print(f\"{self.name} does not have an active membership to cancel.\")\n",
        "\n",
        "    def display_member_info(self):\n",
        "        status = \"Active\" if self.__membership_status else \"Inactive\"\n",
        "        return f\"Member ID: {self.__member_id}, Name: {self.name}, Age: {self.age}, Membership Type: {self.membership_type}, Status: {status}\"\n",
        "\n",
        "\n",
        "class FamilyMember(Member):\n",
        "    def __init__(self, name, age, family_members):\n",
        "        super().__init__(name, age, \"Family\")\n",
        "        self.family_members = family_members  # List of family member names\n",
        "\n",
        "    def display_member_info(self):\n",
        "        return super().display_member_info() + f\", Family Members: {', '.join(self.family_members)}\"\n",
        "\n",
        "\n",
        "class IndividualMember(Member):\n",
        "    def __init__(self, name, age):\n",
        "        super().__init__(name, age, \"Individual\")\n",
        "\n",
        "    def display_member_info(self):\n",
        "        return super().display_member_info()\n",
        "\n",
        "\n",
        "class FitnessClub:\n",
        "    def __init__(self):\n",
        "        self.members = {}\n",
        "\n",
        "    def register_member(self, member):\n",
        "        self.members[member.get_member_id()] = member\n",
        "        print(f\"Member {member.name} has been registered.\")\n",
        "\n",
        "    def renew_membership(self, member_id):\n",
        "        if member_id in self.members:\n",
        "            self.members[member_id].renew_membership()\n",
        "        else:\n",
        "            print(f\"Member ID {member_id} not found.\")\n",
        "\n",
        "    def cancel_membership(self, member_id):\n",
        "        if member_id in self.members:\n",
        "            self.members[member_id].cancel_membership()\n",
        "        else:\n",
        "            print(f\"Member ID {member_id} not found.\")\n",
        "\n",
        "    def display_all_members(self):\n",
        "        for member in self.members.values():\n",
        "            print(member.display_member_info())\n",
        "\n",
        "\n",
        "# Testing the system\n",
        "club = FitnessClub()\n",
        "\n",
        "# Register individual members\n",
        "john = IndividualMember(name=\"John Doe\", age=30)\n",
        "jane = IndividualMember(name=\"Jane Smith\", age=25)\n",
        "\n",
        "club.register_member(john)\n",
        "club.register_member(jane)\n",
        "\n",
        "# Register a family member\n",
        "smith_family = FamilyMember(name=\"Alice Smith\", age=40, family_members=[\"Bob Smith\", \"Charlie Smith\"])\n",
        "club.register_member(smith_family)\n",
        "\n",
        "# Display all members\n",
        "print(\"\\nAll Members:\")\n",
        "club.display_all_members()\n",
        "\n",
        "# Renew a membership\n",
        "club.renew_membership(jane.get_member_id())\n",
        "\n",
        "# Cancel a membership\n",
        "club.cancel_membership(john.get_member_id())\n",
        "\n",
        "# Display updated members\n",
        "print(\"\\nUpdated Members:\")\n",
        "club.display_all_members()\n",
        "\n",
        "# Try renewing a canceled membership\n",
        "club.renew_membership(john.get_member_id())\n",
        "\n"
      ],
      "metadata": {
        "colab": {
          "base_uri": "https://localhost:8080/"
        },
        "id": "FSaTsYk4xMBk",
        "outputId": "f0916717-02fb-47dc-c4d7-cd7b0531733a"
      },
      "execution_count": 81,
      "outputs": [
        {
          "output_type": "stream",
          "name": "stdout",
          "text": [
            "Member John Doe has been registered.\n",
            "Member Jane Smith has been registered.\n",
            "Member Alice Smith has been registered.\n",
            "\n",
            "All Members:\n",
            "Member ID: 0, Name: John Doe, Age: 30, Membership Type: Individual, Status: Active\n",
            "Member ID: 1, Name: Jane Smith, Age: 25, Membership Type: Individual, Status: Active\n",
            "Member ID: 2, Name: Alice Smith, Age: 40, Membership Type: Family, Status: Active, Family Members: Bob Smith, Charlie Smith\n",
            "Jane Smith already has an active membership.\n",
            "Membership for John Doe has been canceled.\n",
            "\n",
            "Updated Members:\n",
            "Member ID: 0, Name: John Doe, Age: 30, Membership Type: Individual, Status: Inactive\n",
            "Member ID: 1, Name: Jane Smith, Age: 25, Membership Type: Individual, Status: Active\n",
            "Member ID: 2, Name: Alice Smith, Age: 40, Membership Type: Family, Status: Active, Family Members: Bob Smith, Charlie Smith\n",
            "Membership for John Doe has been renewed.\n"
          ]
        }
      ]
    },
    {
      "cell_type": "code",
      "source": [
        "''' 9) Write a code for Event Management System using OOPS:\n",
        "\n",
        "Create an Event class that has attributes such as name, date, time, location, and list of attendees (private).\n",
        "Implement methods to create a new event, add or remove attendees, and get the total number of attendees.\n",
        "Use encapsulation to hide the event's unique identification number.\n",
        "Inherit from the Event class to create a Private Event class and a PublicEvent class, each with their own specific attributes and methods.'''\n",
        "\n",
        "class Event:\n",
        "    __event_counter = 0\n",
        "\n",
        "    def __init__(self, name, date, time, location):\n",
        "        self.__event_id = Event.__event_counter\n",
        "        self.name = name\n",
        "        self.date = date\n",
        "        self.time = time\n",
        "        self.location = location\n",
        "        self.__attendees = []\n",
        "        Event.__event_counter += 1\n",
        "\n",
        "    def get_event_id(self):\n",
        "        return self.__event_id\n",
        "\n",
        "    def add_attendee(self, attendee_name):\n",
        "        self.__attendees.append(attendee_name)\n",
        "        print(f\"{attendee_name} has been added to the event '{self.name}'.\")\n",
        "\n",
        "    def remove_attendee(self, attendee_name):\n",
        "        if attendee_name in self.__attendees:\n",
        "            self.__attendees.remove(attendee_name)\n",
        "            print(f\"{attendee_name} has been removed from the event '{self.name}'.\")\n",
        "        else:\n",
        "            print(f\"{attendee_name} is not in the attendee list.\")\n",
        "\n",
        "    def get_total_attendees(self):\n",
        "        return len(self.__attendees)\n",
        "\n",
        "    def display_event_info(self):\n",
        "        return (f\"Event ID: {self.get_event_id()}, Name: {self.name}, Date: {self.date}, Time: {self.time}, \"\n",
        "                f\"Location: {self.location}, Total Attendees: {self.get_total_attendees()}\")\n",
        "\n",
        "\n",
        "class PrivateEvent(Event):\n",
        "    def __init__(self, name, date, time, location, invite_only=True):\n",
        "        super().__init__(name, date, time, location)\n",
        "        self.invite_only = invite_only\n",
        "\n",
        "    def display_event_info(self):\n",
        "        return super().display_event_info() + f\", Invite Only: {self.invite_only}\"\n",
        "\n",
        "\n",
        "class PublicEvent(Event):\n",
        "    def __init__(self, name, date, time, location, open_to_all=True):\n",
        "        super().__init__(name, date, time, location)\n",
        "        self.open_to_all = open_to_all\n",
        "\n",
        "    def display_event_info(self):\n",
        "        return super().display_event_info() + f\", Open to All: {self.open_to_all}\"\n",
        "\n",
        "\n",
        "class EventManagementSystem:\n",
        "    def __init__(self):\n",
        "        self.events = {}\n",
        "\n",
        "    def create_event(self, event):\n",
        "        self.events[event.get_event_id()] = event\n",
        "        print(f\"Event '{event.name}' has been created.\")\n",
        "\n",
        "    def add_attendee_to_event(self, event_id, attendee_name):\n",
        "        if event_id in self.events:\n",
        "            self.events[event_id].add_attendee(attendee_name)\n",
        "        else:\n",
        "            print(f\"Event ID {event_id} not found.\")\n",
        "\n",
        "    def remove_attendee_from_event(self, event_id, attendee_name):\n",
        "        if event_id in self.events:\n",
        "            self.events[event_id].remove_attendee(attendee_name)\n",
        "        else:\n",
        "            print(f\"Event ID {event_id} not found.\")\n",
        "\n",
        "    def display_all_events(self):\n",
        "        for event in self.events.values():\n",
        "            print(event.display_event_info())\n",
        "\n",
        "\n",
        "# Testing the system\n",
        "ems = EventManagementSystem()\n",
        "\n",
        "# Create a private event\n",
        "birthday_party = PrivateEvent(name=\"Birthday Party\", date=\"2024-09-01\", time=\"18:00\", location=\"John's House\")\n",
        "ems.create_event(birthday_party)\n",
        "\n",
        "# Create a public event\n",
        "concert = PublicEvent(name=\"Rock Concert\", date=\"2024-09-10\", time=\"20:00\", location=\"City Arena\")\n",
        "ems.create_event(concert)\n",
        "\n",
        "# Add attendees to events\n",
        "ems.add_attendee_to_event(birthday_party.get_event_id(), \"Alice\")\n",
        "ems.add_attendee_to_event(birthday_party.get_event_id(), \"Bob\")\n",
        "ems.add_attendee_to_event(concert.get_event_id(), \"Charlie\")\n",
        "ems.add_attendee_to_event(concert.get_event_id(), \"Dave\")\n",
        "\n",
        "# Display all events\n",
        "print(\"\\nAll Events:\")\n",
        "ems.display_all_events()\n",
        "\n",
        "# Remove an attendee\n",
        "ems.remove_attendee_from_event(birthday_party.get_event_id(), \"Alice\")\n",
        "\n",
        "# Display updated events\n",
        "print(\"\\nUpdated Events:\")\n",
        "ems.display_all_events()\n",
        "\n"
      ],
      "metadata": {
        "colab": {
          "base_uri": "https://localhost:8080/"
        },
        "id": "aMGrGksQxxvu",
        "outputId": "368ab490-fc96-4435-c250-352317a1676a"
      },
      "execution_count": 82,
      "outputs": [
        {
          "output_type": "stream",
          "name": "stdout",
          "text": [
            "Event 'Birthday Party' has been created.\n",
            "Event 'Rock Concert' has been created.\n",
            "Alice has been added to the event 'Birthday Party'.\n",
            "Bob has been added to the event 'Birthday Party'.\n",
            "Charlie has been added to the event 'Rock Concert'.\n",
            "Dave has been added to the event 'Rock Concert'.\n",
            "\n",
            "All Events:\n",
            "Event ID: 0, Name: Birthday Party, Date: 2024-09-01, Time: 18:00, Location: John's House, Total Attendees: 2, Invite Only: True\n",
            "Event ID: 1, Name: Rock Concert, Date: 2024-09-10, Time: 20:00, Location: City Arena, Total Attendees: 2, Open to All: True\n",
            "Alice has been removed from the event 'Birthday Party'.\n",
            "\n",
            "Updated Events:\n",
            "Event ID: 0, Name: Birthday Party, Date: 2024-09-01, Time: 18:00, Location: John's House, Total Attendees: 1, Invite Only: True\n",
            "Event ID: 1, Name: Rock Concert, Date: 2024-09-10, Time: 20:00, Location: City Arena, Total Attendees: 2, Open to All: True\n"
          ]
        }
      ]
    },
    {
      "cell_type": "code",
      "source": [
        "''' 10) Write a code for Airline Reservation System using OOPS:\n",
        "\n",
        "Create a Flight class that has attributes such as flight number, departure and arrival airports, departure andarrival times, and available seats (private).\n",
        "Implement methods to book a seat, cancel a reservation, and get the remaining available seats.\n",
        "Use encapsulation to hide the flight's unique identification number.\n",
        "Inherit from the Flight class to create a DomesticFlight class and an internationalFlight class, each with their own specific attributes and methods.'''\n",
        "\n",
        "\n",
        "class Flight:\n",
        "    def __init__(self, flight_number, departure_airport, arrival_airport, departure_time, arrival_time, available_seats):\n",
        "        self.__flight_number = flight_number  # private attribute\n",
        "        self.departure_airport = departure_airport\n",
        "        self.arrival_airport = arrival_airport\n",
        "        self.departure_time = departure_time\n",
        "        self.arrival_time = arrival_time\n",
        "        self.__available_seats = available_seats  # private attribute\n",
        "\n",
        "    def book_seat(self):\n",
        "        if self.__available_seats > 0:\n",
        "            self.__available_seats -= 1\n",
        "            print(\"Seat booked successfully.\")\n",
        "        else:\n",
        "            print(\"No available seats.\")\n",
        "\n",
        "    def cancel_reservation(self):\n",
        "        self.__available_seats += 1\n",
        "        print(\"Reservation cancelled successfully.\")\n",
        "\n",
        "    def get_available_seats(self):\n",
        "        return self.__available_seats\n",
        "\n",
        "    def get_flight_number(self):\n",
        "        return self.__flight_number\n",
        "\n",
        "# DomesticFlight class inheriting from Flight\n",
        "class DomesticFlight(Flight):\n",
        "    def __init__(self, flight_number, departure_airport, arrival_airport, departure_time, arrival_time, available_seats, domestic_fare):\n",
        "        super().__init__(flight_number, departure_airport, arrival_airport, departure_time, arrival_time, available_seats)\n",
        "        self.domestic_fare = domestic_fare\n",
        "\n",
        "    def apply_discount(self, discount_percentage):\n",
        "        self.domestic_fare -= self.domestic_fare * (discount_percentage / 100)\n",
        "        print(f\"Discount applied. New fare: ${self.domestic_fare:.2f}\")\n",
        "\n",
        "# InternationalFlight class inheriting from Flight\n",
        "class InternationalFlight(Flight):\n",
        "    def __init__(self, flight_number, departure_airport, arrival_airport, departure_time, arrival_time, available_seats, international_fare, visa_required):\n",
        "        super().__init__(flight_number, departure_airport, arrival_airport, departure_time, arrival_time, available_seats)\n",
        "        self.international_fare = international_fare\n",
        "        self.visa_required = visa_required\n",
        "\n",
        "    def check_visa_requirement(self):\n",
        "        if self.visa_required:\n",
        "            print(\"Visa is required for this flight.\")\n",
        "        else:\n",
        "            print(\"No visa required.\")\n",
        "\n",
        "# Example usage\n",
        "domestic_flight = DomesticFlight(\"DL123\", \"NYC\", \"LA\", \"2024-08-25 09:00\", \"2024-08-25 12:00\", 100, 250.00)\n",
        "international_flight = InternationalFlight(\"INT456\", \"NYC\", \"LON\", \"2024-08-25 18:00\", \"2024-08-26 06:00\", 50, 800.00, True)\n",
        "\n",
        "# Book seats\n",
        "domestic_flight.book_seat()\n",
        "international_flight.book_seat()\n",
        "\n",
        "# Cancel reservation\n",
        "domestic_flight.cancel_reservation()\n",
        "\n",
        "# Check available seats\n",
        "print(f\"Available seats on domestic flight: {domestic_flight.get_available_seats()}\")\n",
        "print(f\"Available seats on international flight: {international_flight.get_available_seats()}\")\n",
        "\n",
        "# Apply discount and check visa requirement\n",
        "domestic_flight.apply_discount(10)  # Applying 10% discount\n",
        "international_flight.check_visa_requirement()\n"
      ],
      "metadata": {
        "colab": {
          "base_uri": "https://localhost:8080/"
        },
        "id": "T1fnHgTux43O",
        "outputId": "ba7cbcfb-35ff-4619-f56e-d212cdb0a068"
      },
      "execution_count": 84,
      "outputs": [
        {
          "output_type": "stream",
          "name": "stdout",
          "text": [
            "Seat booked successfully.\n",
            "Seat booked successfully.\n",
            "Reservation cancelled successfully.\n",
            "Available seats on domestic flight: 100\n",
            "Available seats on international flight: 49\n",
            "Discount applied. New fare: $225.00\n",
            "Visa is required for this flight.\n"
          ]
        }
      ]
    }
  ]
}